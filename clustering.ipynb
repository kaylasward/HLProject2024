{
 "cells": [
  {
   "cell_type": "markdown",
   "metadata": {},
   "source": [
    "# imports "
   ]
  },
  {
   "cell_type": "code",
   "execution_count": 40,
   "metadata": {},
   "outputs": [],
   "source": [
    "#imports\n",
    "import lingpy\n",
    "from levenshtein_dist_calc import LevenshteinDistanceCalculator\n",
    "import nltk\n",
    "from read_tab_files import TabFileReader\n"
   ]
  },
  {
   "cell_type": "markdown",
   "metadata": {},
   "source": [
    "# Clustering"
   ]
  },
  {
   "cell_type": "markdown",
   "metadata": {},
   "source": [
    "## testing"
   ]
  },
  {
   "cell_type": "code",
   "execution_count": 41,
   "metadata": {},
   "outputs": [],
   "source": [
    "barb_cognacy = TabFileReader.tab_reader(\n",
    "    \"chl2024_barbacoandata/chl2023_barbacoan_cognacy.tab\"\n",
    ")\n",
    "barb_forms = TabFileReader.tab_reader(\n",
    "    \"chl2024_barbacoandata/chl2023_barbacoan_forms.tab\"\n",
    ")"
   ]
  },
  {
   "cell_type": "code",
   "execution_count": 42,
   "metadata": {},
   "outputs": [],
   "source": [
    "barb_word_list = TabFileReader.get_word_list(barb_forms)\n",
    "barb_alphabet = TabFileReader.get_alphabet(barb_word_list)"
   ]
  },
  {
   "cell_type": "code",
   "execution_count": 54,
   "metadata": {},
   "outputs": [
    {
     "data": {
      "text/plain": [
       "['Awa Pit', \"Cha'palaa\", 'Guambiano', 'Totoro', 'Tsafiki']"
      ]
     },
     "execution_count": 54,
     "metadata": {},
     "output_type": "execute_result"
    }
   ],
   "source": [
    "taxa = list(barb_forms.iloc[0][1:])\n",
    "taxa"
   ]
  },
  {
   "cell_type": "code",
   "execution_count": 44,
   "metadata": {},
   "outputs": [
    {
     "data": {
      "text/plain": [
       "['pil', 'tu', 'pirɨ', 'pirɨ', 'to']"
      ]
     },
     "execution_count": 44,
     "metadata": {},
     "output_type": "execute_result"
    }
   ],
   "source": [
    "cognates = list(barb_forms.iloc[2][1:])\n",
    "cognates"
   ]
  },
  {
   "cell_type": "code",
   "execution_count": 45,
   "metadata": {},
   "outputs": [],
   "source": [
    "barb_calcedit = LevenshteinDistanceCalculator(barb_forms, barb_alphabet)"
   ]
  },
  {
   "cell_type": "code",
   "execution_count": 50,
   "metadata": {},
   "outputs": [],
   "source": [
    "distance_matrix = [[0 for i in range(len(cognates))] \n",
    "                           for j in range(len(cognates))]\n",
    "for i, source in enumerate(cognates):\n",
    "    for j, target in enumerate(cognates):\n",
    "        if (source == \"\" \n",
    "            or target == \"\"):  # if one cognate in pair is missing, null value\n",
    "            distance_matrix[i][j] = float(\"nan\")\n",
    "        else:\n",
    "            distance_matrix[i][j] = nltk.edit_distance(source, target)/max(len(source),len(target))"
   ]
  },
  {
   "cell_type": "code",
   "execution_count": 51,
   "metadata": {},
   "outputs": [
    {
     "data": {
      "text/plain": [
       "[[0.0, 1.0, 0.5, 0.5, 1.0],\n",
       " [1.0, 0.0, 1.0, 1.0, 0.5],\n",
       " [0.5, 1.0, 0.0, 0.0, 1.0],\n",
       " [0.5, 1.0, 0.0, 0.0, 1.0],\n",
       " [1.0, 0.5, 1.0, 1.0, 0.0]]"
      ]
     },
     "execution_count": 51,
     "metadata": {},
     "output_type": "execute_result"
    }
   ],
   "source": [
    "distance_matrix"
   ]
  },
  {
   "cell_type": "code",
   "execution_count": 53,
   "metadata": {},
   "outputs": [
    {
     "data": {
      "text/plain": [
       "\"((Awa Pit:0.25,(Guambiano:0.00,Totoro:0.00):0.25):0.25,(Cha'palaa:0.25,Tsafiki:0.25):0.25);\""
      ]
     },
     "execution_count": 53,
     "metadata": {},
     "output_type": "execute_result"
    }
   ],
   "source": [
    "lingpy.upgma(distance_matrix,taxa,distances=True)\n"
   ]
  },
  {
   "cell_type": "code",
   "execution_count": 63,
   "metadata": {},
   "outputs": [
    {
     "data": {
      "text/plain": [
       "{0: ['Awa Pit'], 1: [\"Cha'palaa\"], 2: ['Guambiano', 'Totoro'], 4: ['Tsafiki']}"
      ]
     },
     "execution_count": 63,
     "metadata": {},
     "output_type": "execute_result"
    }
   ],
   "source": [
    "lingpy.flat_upgma(.2,distance_matrix,taxa)"
   ]
  },
  {
   "cell_type": "code",
   "execution_count": 79,
   "metadata": {},
   "outputs": [],
   "source": [
    "test = barb_cognacy.to_dict()\n"
   ]
  },
  {
   "cell_type": "code",
   "execution_count": 87,
   "metadata": {},
   "outputs": [
    {
     "data": {
      "text/plain": [
       "{0: '\\ufeff',\n",
       " 1: '1-21. the land',\n",
       " 2: '1-212. the soil',\n",
       " 3: '1-214. the mud',\n",
       " 4: '1-22. the mountain or hill',\n",
       " 5: '1-28. the cave',\n",
       " 6: '1-31. the water',\n",
       " 7: '1-323. rough(2)',\n",
       " 8: '1-324. the foam',\n",
       " 9: '1-33. the lake',\n",
       " 10: '1-36. the river or stream',\n",
       " 11: '1-37. the spring or well',\n",
       " 12: '1-38. the swamp',\n",
       " 13: '1-39. the waterfall',\n",
       " 14: '1-41. the woods or forest',\n",
       " 15: '1-411. the savanna',\n",
       " 16: '1-43. the wood',\n",
       " 17: '1-44. the stone or rock',\n",
       " 18: '1-51. the sky',\n",
       " 19: '1-52. the sun',\n",
       " 20: '1-53. the moon',\n",
       " 21: '1-55. the lightning',\n",
       " 22: '1-56. the thunder',\n",
       " 23: '1-59. the rainbow',\n",
       " 24: '1-62. the darkness',\n",
       " 25: '1-72. the wind',\n",
       " 26: '1-73. the cloud',\n",
       " 27: '1-74. the fog',\n",
       " 28: '1-75. the rain',\n",
       " 29: '1-81. the fire',\n",
       " 30: '1-83. the smoke',\n",
       " 31: '1-84. the ash',\n",
       " 32: '1-88. the firewood',\n",
       " 33: '10-23. to fall',\n",
       " 34: '10-25. to throw',\n",
       " 35: '10-253. to catch',\n",
       " 36: '10-32. to flow',\n",
       " 37: '10-35. to swim',\n",
       " 38: '10-37. to fly',\n",
       " 39: '10-38. to blow',\n",
       " 40: '10-41. to crawl',\n",
       " 41: '10-43. to jump',\n",
       " 42: '10-44. to dance',\n",
       " 43: '10-45. to walk',\n",
       " 44: '10-46. to run',\n",
       " 45: '10-47. to go',\n",
       " 46: '10-471. to go up',\n",
       " 47: '10-472. to climb',\n",
       " 48: '10-474. to go out',\n",
       " 49: '10-48. to come',\n",
       " 50: '10-481. to come back',\n",
       " 51: '10-491. to disappear',\n",
       " 52: '10-55. to arrive',\n",
       " 53: '10-57. to enter',\n",
       " 54: '10-61. carry',\n",
       " 55: '10-63. to send',\n",
       " 56: '10-67. to push',\n",
       " 57: '10-71. the road',\n",
       " 58: '10-72. the path',\n",
       " 59: '10-74. the bridge',\n",
       " 60: '11-11. to have',\n",
       " 61: '11-14. to grasp',\n",
       " 62: '11-15. to hold',\n",
       " 63: '11-16. to get',\n",
       " 64: '11-21. to give',\n",
       " 65: '11-32. to find',\n",
       " 66: '11-43. the money',\n",
       " 67: '11-81. to buy',\n",
       " 68: '12-011. behind',\n",
       " 69: '12-013. at',\n",
       " 70: '12-03. down',\n",
       " 71: '12-04. before',\n",
       " 72: '12-07. under',\n",
       " 73: '12-08. up',\n",
       " 74: '12-081. above',\n",
       " 75: '12-12. to put',\n",
       " 76: '12-13. to sit',\n",
       " 77: '12-14. to lie down',\n",
       " 78: '12-15. to stand',\n",
       " 79: '12-27. to hide',\n",
       " 80: '12-36. the side',\n",
       " 81: '12-37. the middle',\n",
       " 82: '12-41. right(1)',\n",
       " 83: '12-42. left',\n",
       " 84: '12-43. near',\n",
       " 85: '12-44. far',\n",
       " 86: '12-53. to grow',\n",
       " 87: '12-55. big',\n",
       " 88: '12-56. small',\n",
       " 89: '12-57. long',\n",
       " 90: '12-61. wide',\n",
       " 91: '12-62. narrow',\n",
       " 92: '12-63. thick',\n",
       " 93: '12-65. thin',\n",
       " 94: '12-73. straight',\n",
       " 95: '12-75. the hook',\n",
       " 96: '12-81. round',\n",
       " 97: '12-82. the circle',\n",
       " 98: '12-84. the line',\n",
       " 99: '12-85. the hole',\n",
       " 100: '12-92. similar',\n",
       " 101: '13-01. one',\n",
       " 102: '13-02. two',\n",
       " 103: '13-03. three',\n",
       " 104: '13-04. four',\n",
       " 105: '13-05. five',\n",
       " 106: '13-101. eleven',\n",
       " 107: '13-102. twelve',\n",
       " 108: '13-103. fifteen',\n",
       " 109: '13-104. twenty',\n",
       " 110: '13-15. many',\n",
       " 111: '13-17. few',\n",
       " 112: '13-181. some',\n",
       " 113: '13-21. full',\n",
       " 114: '13-34. first',\n",
       " 115: '13-35. last',\n",
       " 116: '14-13. new',\n",
       " 117: '14-15. old',\n",
       " 118: '14-18. now',\n",
       " 119: '14-19. immediately',\n",
       " 120: '14-21. fast',\n",
       " 121: '14-23. to hurry',\n",
       " 122: '14-35. again',\n",
       " 123: '14-41. the day(1)',\n",
       " 124: '14-42. the night',\n",
       " 125: '14-43. the dawn',\n",
       " 126: '14-44. the morning',\n",
       " 127: '14-47. today',\n",
       " 128: '14-48. tomorrow',\n",
       " 129: '14-49. yesterday',\n",
       " 130: '15-21. to smell(1)',\n",
       " 131: '15-37. bitter',\n",
       " 132: '15-38. sour',\n",
       " 133: '15-41. to hear',\n",
       " 134: '15-42. to listen',\n",
       " 135: '15-44. the sound or noise',\n",
       " 136: '15-46. quiet',\n",
       " 137: '15-51. to see',\n",
       " 138: '15-52. to look',\n",
       " 139: '15-55. to show',\n",
       " 140: '15-56. to shine',\n",
       " 141: '15-64. white',\n",
       " 142: '15-65. black',\n",
       " 143: '15-66. red',\n",
       " 144: '15-67. blue',\n",
       " 145: '15-69. yellow',\n",
       " 146: '15-71. to touch',\n",
       " 147: '15-72. to feel',\n",
       " 148: '15-75. soft',\n",
       " 149: '15-77. smooth',\n",
       " 150: '15-78. sharp',\n",
       " 151: '15-81. heavy',\n",
       " 152: '15-83. wet',\n",
       " 153: '15-84. dry',\n",
       " 154: '15-85. hot',\n",
       " 155: '15-86. cold',\n",
       " 156: '15-88. dirty',\n",
       " 157: '16-25. to laugh',\n",
       " 158: '16-26. to play',\n",
       " 159: '16-29. to kiss',\n",
       " 160: '16-37. to cry',\n",
       " 161: '16-38. the tear',\n",
       " 162: '16-53. the fear',\n",
       " 163: '16-62. to want',\n",
       " 164: '16-81. beautiful',\n",
       " 165: '17-13. to think(1)',\n",
       " 166: '17-17. to know',\n",
       " 167: '17-24. to learn',\n",
       " 168: '17-25. to teach',\n",
       " 169: '17-32. to forget',\n",
       " 170: '17-51. and',\n",
       " 171: '17-61. how?',\n",
       " 172: '17-62. how many?',\n",
       " 173: '17-64. what?',\n",
       " 174: '17-65. when?',\n",
       " 175: '17-66. where?',\n",
       " 176: '17-67. which?',\n",
       " 177: '17-68. who?',\n",
       " 178: '18-13. to shout',\n",
       " 179: '18-21. to speak or talk',\n",
       " 180: '18-22. to say',\n",
       " 181: '18-221. to tell',\n",
       " 182: '18-23. to be silent',\n",
       " 183: '18-28. the name',\n",
       " 184: '18-31. to ask(1)',\n",
       " 185: '18-51. to write',\n",
       " 186: '18-52. to read',\n",
       " 187: '18-56. the paper',\n",
       " 188: '18-71. the flute',\n",
       " 189: '18-72. the drum',\n",
       " 190: '19-21. the people',\n",
       " 191: '19-24. the chieftain',\n",
       " 192: '2-1. the person',\n",
       " 193: '2-21. the man',\n",
       " 194: '2-22. the woman',\n",
       " 195: '2-23. male(1)',\n",
       " 196: '2-27. the child(1)',\n",
       " 197: '2-28. the baby',\n",
       " 198: '2-31. the husband',\n",
       " 199: '2-32. the wife',\n",
       " 200: '2-35. the father',\n",
       " 201: '2-36. the mother',\n",
       " 202: '2-41. the son',\n",
       " 203: '2-42. the daughter',\n",
       " 204: '2-44. the brother',\n",
       " 205: '2-45. the sister',\n",
       " 206: '2-461. the old man',\n",
       " 207: '2-471. the old woman',\n",
       " 208: '2-48. the grandson',\n",
       " 209: '2-5. the grandchild',\n",
       " 210: '2-73. the stepson',\n",
       " 211: '2-91. I',\n",
       " 212: '2-92. you (singular)',\n",
       " 213: '2-93. he/she/it',\n",
       " 214: '2-931. he',\n",
       " 215: '2-94. we',\n",
       " 216: '2-95. you (plural)',\n",
       " 217: '2-96. they',\n",
       " 218: '20-11. to fight',\n",
       " 219: '20-54. the fishnet',\n",
       " 220: '21-51. to steal',\n",
       " 221: '21-52. the thief',\n",
       " 222: '24-01. to be',\n",
       " 223: '24-04. with',\n",
       " 224: '24-06. not',\n",
       " 225: '24-07. this',\n",
       " 226: '24-08. that',\n",
       " 227: '24-09. here',\n",
       " 228: '24-1. there',\n",
       " 229: '24-11. other',\n",
       " 230: '24-14. agouti',\n",
       " 231: '3-32. the boar',\n",
       " 232: '3-581. the bird',\n",
       " 233: '3-585. the hawk',\n",
       " 234: '3-591. the bat',\n",
       " 235: '3-61. the dog',\n",
       " 236: '3-62. the cat',\n",
       " 237: '3-63. the mouse or rat',\n",
       " 238: '3-75. the deer',\n",
       " 239: '3-811. the head louse',\n",
       " 240: '3-813. the flea',\n",
       " 241: '3-817. the ant',\n",
       " 242: '3-818. the spider',\n",
       " 243: '3-82. the bee',\n",
       " 244: '3-83. the fly',\n",
       " 245: '3-832. the mosquito',\n",
       " 246: '3-834. the termites',\n",
       " 247: '3-84. the worm',\n",
       " 248: '3-85. the snake',\n",
       " 249: '3-9. the jaguar',\n",
       " 250: '3-92. the butterfly',\n",
       " 251: '3-95. the frog',\n",
       " 252: '4-11. the body',\n",
       " 253: '4-12. the skin or hide',\n",
       " 254: '4-14. the hair',\n",
       " 255: '4-144. the body hair',\n",
       " 256: '4-15. the blood',\n",
       " 257: '4-151. the vein or artery',\n",
       " 258: '4-16. the bone',\n",
       " 259: '4-17. the horn',\n",
       " 260: '4-18. the tail',\n",
       " 261: '4-19. the back',\n",
       " 262: '4-2. the head',\n",
       " 263: '4-204. the face',\n",
       " 264: '4-209. the chin',\n",
       " 265: '4-21. the eye',\n",
       " 266: '4-214. the eyelash',\n",
       " 267: '4-22. the ear',\n",
       " 268: '4-23. the nose',\n",
       " 269: '4-24. the mouth',\n",
       " 270: '4-25. the lip',\n",
       " 271: '4-26. the tongue',\n",
       " 272: '4-27. the tooth',\n",
       " 273: '4-272. the molar tooth',\n",
       " 274: '4-28. the neck',\n",
       " 275: '4-29. the throat',\n",
       " 276: '4-3. the shoulder',\n",
       " 277: '4-31. the arm',\n",
       " 278: '4-32. the elbow',\n",
       " 279: '4-34. the finger',\n",
       " 280: '4-344. the fingernail',\n",
       " 281: '4-345. the claw',\n",
       " 282: '4-35. the leg',\n",
       " 283: '4-352. the calf of the leg',\n",
       " 284: '4-37. the foot',\n",
       " 285: '4-38. the toe',\n",
       " 286: '4-393. the feather',\n",
       " 287: '4-4. the chest',\n",
       " 288: '4-41. the breast',\n",
       " 289: '4-412. the nipple or teat',\n",
       " 290: '4-43. the navel',\n",
       " 291: '4-44. the heart',\n",
       " 292: '4-441. the lung',\n",
       " 293: '4-45. the liver',\n",
       " 294: '4-46. the stomach',\n",
       " 295: '4-461. the intestines or guts',\n",
       " 296: '4-464. the buttocks',\n",
       " 297: '4-49. the testicles',\n",
       " 298: '4-493. the vagina',\n",
       " 299: '4-494. the vulva',\n",
       " 300: '4-521. to hiccough',\n",
       " 301: '4-57. to vomit',\n",
       " 302: '4-61. to sleep',\n",
       " 303: '4-62. to dream',\n",
       " 304: '4-64. to fart',\n",
       " 305: '4-69. to bathe',\n",
       " 306: '4-72. to be born',\n",
       " 307: '4-73. pregnant',\n",
       " 308: '4-74. to be alive',\n",
       " 309: '4-75. to die',\n",
       " 310: '4-7501. dead',\n",
       " 311: '4-76. to kill',\n",
       " 312: '4-78. to bury',\n",
       " 313: '4-841. the fever',\n",
       " 314: '4-87. the physician',\n",
       " 315: '5-11. to eat',\n",
       " 316: '5-12. the food',\n",
       " 317: '5-123. ripe',\n",
       " 318: '5-125. rotten',\n",
       " 319: '5-13. to drink',\n",
       " 320: '5-16. to suck',\n",
       " 321: '5-21. to cook',\n",
       " 322: '5-26. the pot',\n",
       " 323: '5-32. the plate',\n",
       " 324: '5-51. the bread',\n",
       " 325: '5-61. the meat',\n",
       " 326: '5-7. the potato',\n",
       " 327: '5-71. the fruit',\n",
       " 328: '5-791. the grease or fat',\n",
       " 329: '5-81. the salt',\n",
       " 330: '5-821. the chili pepper',\n",
       " 331: '5-86. the milk',\n",
       " 332: '5-97. the egg',\n",
       " 333: '6-24. the cotton',\n",
       " 334: '6-28. the fur',\n",
       " 335: '6-29. the leather',\n",
       " 336: '6-33. to weave',\n",
       " 337: '6-55. the hat or cap',\n",
       " 338: '7-11. to live',\n",
       " 339: '7-12. the house',\n",
       " 340: '7-22. the door or gate',\n",
       " 341: '7-26. the floor',\n",
       " 342: '7-42. the bed',\n",
       " 343: '7-46. the candle',\n",
       " 344: '7-51. the roof',\n",
       " 345: '8-13. the garden',\n",
       " 346: '8-22. to dig',\n",
       " 347: '8-28. the digging stick (=yamstick)',\n",
       " 348: '8-31. to sow',\n",
       " 349: '8-311. the seed',\n",
       " 350: '8-47. the maize/corn',\n",
       " 351: '8-54. the root',\n",
       " 352: '8-56. the leaf',\n",
       " 353: '8-57. the flower',\n",
       " 354: '8-6. the tree',\n",
       " 355: '8-6. tree',\n",
       " 356: '8-68. the tobacco',\n",
       " 357: '8-69. to smoke',\n",
       " 358: '8-75. the bark',\n",
       " 359: '8-76. the sap',\n",
       " 360: '8-81. the palm tree',\n",
       " 361: '8-92. the cassava/manioc',\n",
       " 362: '8-93. the gourd',\n",
       " 363: '8-941. the sugar cane',\n",
       " 364: '9-11. to do',\n",
       " 365: '9-111. to make',\n",
       " 366: '9-16. to tie',\n",
       " 367: '9-19. the rope',\n",
       " 368: '9-21. to hit',\n",
       " 369: '9-21. to strike or hit or beat',\n",
       " 370: '9-22. to cut',\n",
       " 371: '9-221. to cut down',\n",
       " 372: '9-25. the axe/ax',\n",
       " 373: '9-27. to split',\n",
       " 374: '9-31. to rub',\n",
       " 375: '9-33. to pull',\n",
       " 376: '9-341. to hang up',\n",
       " 377: '9-342. to press',\n",
       " 378: '9-36. to wash',\n",
       " 379: '9-78. the netbag'}"
      ]
     },
     "execution_count": 87,
     "metadata": {},
     "output_type": "execute_result"
    }
   ],
   "source": [
    "test[0]"
   ]
  },
  {
   "cell_type": "code",
   "execution_count": 90,
   "metadata": {},
   "outputs": [
    {
     "ename": "ValueError",
     "evalue": "Could not find row or col in configuration or input file!",
     "output_type": "error",
     "traceback": [
      "\u001b[0;31m---------------------------------------------------------------------------\u001b[0m",
      "\u001b[0;31mKeyError\u001b[0m                                  Traceback (most recent call last)",
      "File \u001b[0;32m~/.local/lib/python3.11/site-packages/lingpy/basic/parser.py:401\u001b[0m, in \u001b[0;36mQLCParserWithRowsAndCols.__init__\u001b[0;34m(self, filename, row, col, conf)\u001b[0m\n\u001b[1;32m    400\u001b[0m \u001b[38;5;28mself\u001b[39m\u001b[38;5;241m.\u001b[39m_col_name \u001b[38;5;241m=\u001b[39m \u001b[38;5;28mself\u001b[39m\u001b[38;5;241m.\u001b[39m_alias[col]\n\u001b[0;32m--> 401\u001b[0m rowIdx \u001b[38;5;241m=\u001b[39m \u001b[38;5;28;43mself\u001b[39;49m\u001b[38;5;241;43m.\u001b[39;49m\u001b[43mheader\u001b[49m\u001b[43m[\u001b[49m\u001b[38;5;28;43mself\u001b[39;49m\u001b[38;5;241;43m.\u001b[39;49m\u001b[43m_alias\u001b[49m\u001b[43m[\u001b[49m\u001b[43mrow\u001b[49m\u001b[43m]\u001b[49m\u001b[43m]\u001b[49m\n\u001b[1;32m    402\u001b[0m colIdx \u001b[38;5;241m=\u001b[39m \u001b[38;5;28mself\u001b[39m\u001b[38;5;241m.\u001b[39mheader[\u001b[38;5;28mself\u001b[39m\u001b[38;5;241m.\u001b[39m_alias[col]]\n",
      "\u001b[0;31mKeyError\u001b[0m: 'concept'",
      "\nDuring handling of the above exception, another exception occurred:\n",
      "\u001b[0;31mValueError\u001b[0m                                Traceback (most recent call last)",
      "Cell \u001b[0;32mIn[90], line 1\u001b[0m\n\u001b[0;32m----> 1\u001b[0m wl \u001b[38;5;241m=\u001b[39m \u001b[43mlingpy\u001b[49m\u001b[38;5;241;43m.\u001b[39;49m\u001b[43mWordlist\u001b[49m\u001b[43m(\u001b[49m\u001b[38;5;124;43m\"\u001b[39;49m\u001b[38;5;124;43mtest.csv\u001b[39;49m\u001b[38;5;124;43m\"\u001b[39;49m\u001b[43m)\u001b[49m\n",
      "File \u001b[0;32m~/.local/lib/python3.11/site-packages/lingpy/basic/wordlist.py:97\u001b[0m, in \u001b[0;36mWordlist.__init__\u001b[0;34m(self, filename, row, col, conf)\u001b[0m\n\u001b[1;32m     96\u001b[0m \u001b[38;5;28;01mdef\u001b[39;00m \u001b[38;5;21m__init__\u001b[39m(\u001b[38;5;28mself\u001b[39m, filename, row\u001b[38;5;241m=\u001b[39m\u001b[38;5;124m'\u001b[39m\u001b[38;5;124mconcept\u001b[39m\u001b[38;5;124m'\u001b[39m, col\u001b[38;5;241m=\u001b[39m\u001b[38;5;124m'\u001b[39m\u001b[38;5;124mdoculect\u001b[39m\u001b[38;5;124m'\u001b[39m, conf\u001b[38;5;241m=\u001b[39m\u001b[38;5;28;01mNone\u001b[39;00m):\n\u001b[0;32m---> 97\u001b[0m     \u001b[43mQLCParserWithRowsAndCols\u001b[49m\u001b[38;5;241;43m.\u001b[39;49m\u001b[38;5;21;43m__init__\u001b[39;49m\u001b[43m(\u001b[49m\n\u001b[1;32m     98\u001b[0m \u001b[43m        \u001b[49m\u001b[38;5;28;43mself\u001b[39;49m\u001b[43m,\u001b[49m\u001b[43m \u001b[49m\u001b[43mfilename\u001b[49m\u001b[43m,\u001b[49m\u001b[43m \u001b[49m\u001b[43mrow\u001b[49m\u001b[43m,\u001b[49m\u001b[43m \u001b[49m\u001b[43mcol\u001b[49m\u001b[43m,\u001b[49m\u001b[43m \u001b[49m\u001b[43mconf\u001b[49m\u001b[43m \u001b[49m\u001b[38;5;129;43;01mor\u001b[39;49;00m\u001b[43m \u001b[49m\u001b[43mutil\u001b[49m\u001b[38;5;241;43m.\u001b[39;49m\u001b[43mdata_path\u001b[49m\u001b[43m(\u001b[49m\u001b[38;5;124;43m'\u001b[39;49m\u001b[38;5;124;43mconf\u001b[39;49m\u001b[38;5;124;43m'\u001b[39;49m\u001b[43m,\u001b[49m\u001b[43m \u001b[49m\u001b[38;5;124;43m'\u001b[39;49m\u001b[38;5;124;43mwordlist.rc\u001b[39;49m\u001b[38;5;124;43m'\u001b[39;49m\u001b[43m)\u001b[49m\u001b[43m)\u001b[49m\n\u001b[1;32m    100\u001b[0m     \u001b[38;5;66;03m# setup other local temporary storage\u001b[39;00m\n\u001b[1;32m    101\u001b[0m     \u001b[38;5;28mself\u001b[39m\u001b[38;5;241m.\u001b[39m_etym_dict \u001b[38;5;241m=\u001b[39m {}\n",
      "File \u001b[0;32m~/.local/lib/python3.11/site-packages/lingpy/basic/parser.py:404\u001b[0m, in \u001b[0;36mQLCParserWithRowsAndCols.__init__\u001b[0;34m(self, filename, row, col, conf)\u001b[0m\n\u001b[1;32m    402\u001b[0m     colIdx \u001b[38;5;241m=\u001b[39m \u001b[38;5;28mself\u001b[39m\u001b[38;5;241m.\u001b[39mheader[\u001b[38;5;28mself\u001b[39m\u001b[38;5;241m.\u001b[39m_alias[col]]\n\u001b[1;32m    403\u001b[0m \u001b[38;5;28;01mexcept\u001b[39;00m \u001b[38;5;167;01mKeyError\u001b[39;00m:\n\u001b[0;32m--> 404\u001b[0m     \u001b[38;5;28;01mraise\u001b[39;00m \u001b[38;5;167;01mValueError\u001b[39;00m(\u001b[38;5;124m\"\u001b[39m\u001b[38;5;124mCould not find row or col in configuration or input file!\u001b[39m\u001b[38;5;124m\"\u001b[39m)\n\u001b[1;32m    406\u001b[0m \u001b[38;5;28;01mdef\u001b[39;00m \u001b[38;5;21munique_sorted\u001b[39m(idx, key):\n\u001b[1;32m    407\u001b[0m     \u001b[38;5;28;01mreturn\u001b[39;00m \u001b[38;5;28msorted\u001b[39m(\n\u001b[1;32m    408\u001b[0m         \u001b[38;5;28mset\u001b[39m([\u001b[38;5;28mself\u001b[39m\u001b[38;5;241m.\u001b[39m_data[k][idx] \u001b[38;5;129;01mor\u001b[39;00m \u001b[38;5;124m'\u001b[39m\u001b[38;5;124m'\u001b[39m \u001b[38;5;28;01mfor\u001b[39;00m k \u001b[38;5;129;01min\u001b[39;00m \u001b[38;5;28mself\u001b[39m\u001b[38;5;241m.\u001b[39m_data\n\u001b[1;32m    409\u001b[0m              \u001b[38;5;28;01mif\u001b[39;00m k \u001b[38;5;241m!=\u001b[39m \u001b[38;5;241m0\u001b[39m \u001b[38;5;129;01mand\u001b[39;00m \u001b[38;5;28misinstance\u001b[39m(k, \u001b[38;5;28mint\u001b[39m)]),\n\u001b[1;32m    410\u001b[0m         key\u001b[38;5;241m=\u001b[39mkey)\n",
      "\u001b[0;31mValueError\u001b[0m: Could not find row or col in configuration or input file!"
     ]
    }
   ],
   "source": [
    "wl = lingpy.Wordlist(\"test.csv\")"
   ]
  }
 ],
 "metadata": {
  "kernelspec": {
   "display_name": "Python 3",
   "language": "python",
   "name": "python3"
  },
  "language_info": {
   "codemirror_mode": {
    "name": "ipython",
    "version": 3
   },
   "file_extension": ".py",
   "mimetype": "text/x-python",
   "name": "python",
   "nbconvert_exporter": "python",
   "pygments_lexer": "ipython3",
   "version": "3.11.2"
  }
 },
 "nbformat": 4,
 "nbformat_minor": 2
}
