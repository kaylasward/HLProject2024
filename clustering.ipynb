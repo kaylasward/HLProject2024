{
 "cells": [
  {
   "cell_type": "markdown",
   "metadata": {},
   "source": [
    "# imports "
   ]
  },
  {
   "cell_type": "code",
   "execution_count": 2,
   "metadata": {},
   "outputs": [],
   "source": [
    "#imports\n",
    "import lingpy\n",
    "from levenshtein_dist_calc import LevenshteinDistanceCalculator\n",
    "import nltk\n",
    "from read_tab_files import TabFileReader\n",
    "import bcubed\n",
    "from collections import defaultdict"
   ]
  },
  {
   "cell_type": "markdown",
   "metadata": {},
   "source": [
    "# Clustering"
   ]
  },
  {
   "cell_type": "markdown",
   "metadata": {},
   "source": [
    "## testing"
   ]
  },
  {
   "cell_type": "code",
   "execution_count": 3,
   "metadata": {},
   "outputs": [],
   "source": [
    "barb_cognacy = TabFileReader.tab_reader(\n",
    "    \"chl2024_barbacoandata/chl2023_barbacoan_cognacy.tab\"\n",
    ")\n",
    "barb_forms = TabFileReader.tab_reader(\n",
    "    \"chl2024_barbacoandata/chl2023_barbacoan_forms.tab\"\n",
    ")"
   ]
  },
  {
   "cell_type": "code",
   "execution_count": 42,
   "metadata": {},
   "outputs": [],
   "source": [
    "barb_word_list = TabFileReader.get_word_list(barb_forms)\n",
    "barb_alphabet = TabFileReader.get_alphabet(barb_word_list)"
   ]
  },
  {
   "cell_type": "code",
   "execution_count": 4,
   "metadata": {},
   "outputs": [
    {
     "data": {
      "text/plain": [
       "['Awa Pit', \"Cha'palaa\", 'Guambiano', 'Totoro', 'Tsafiki']"
      ]
     },
     "execution_count": 4,
     "metadata": {},
     "output_type": "execute_result"
    }
   ],
   "source": [
    "taxa = list(barb_forms.iloc[0][1:])\n",
    "taxa"
   ]
  },
  {
   "cell_type": "code",
   "execution_count": 5,
   "metadata": {},
   "outputs": [
    {
     "data": {
      "text/plain": [
       "['pil', 'tu', 'pirɨ', 'pirɨ', 'to']"
      ]
     },
     "execution_count": 5,
     "metadata": {},
     "output_type": "execute_result"
    }
   ],
   "source": [
    "cognates = list(barb_forms.iloc[2][1:])\n",
    "cognates"
   ]
  },
  {
   "cell_type": "code",
   "execution_count": 21,
   "metadata": {},
   "outputs": [],
   "source": [
    "#calculate distance matrix from cognate list (integrate with levenshtein distance calc maybe)\n",
    "def get_distancematrix(cognate_list):\n",
    "    distance_matrix = [[0 for i in range(len(cognate_list))] \n",
    "                           for j in range(len(cognate_list))]\n",
    "    for i, source in enumerate(cognate_list):\n",
    "        for j, target in enumerate(cognate_list):\n",
    "            if (source == \"\" \n",
    "                or target == \"\"):  # if one cognate in pair is missing, null value\n",
    "                distance_matrix[i][j] = float(\"nan\")\n",
    "            else:\n",
    "                distance_matrix[i][j] = nltk.edit_distance(source, target)/max(len(source),len(target))\n",
    "    \n",
    "    return distance_matrix"
   ]
  },
  {
   "cell_type": "code",
   "execution_count": 7,
   "metadata": {},
   "outputs": [
    {
     "data": {
      "text/plain": [
       "[[0.0, 1.0, 0.5, 0.5, 1.0],\n",
       " [1.0, 0.0, 1.0, 1.0, 0.5],\n",
       " [0.5, 1.0, 0.0, 0.0, 1.0],\n",
       " [0.5, 1.0, 0.0, 0.0, 1.0],\n",
       " [1.0, 0.5, 1.0, 1.0, 0.0]]"
      ]
     },
     "execution_count": 7,
     "metadata": {},
     "output_type": "execute_result"
    }
   ],
   "source": [
    "distance_matrix = get_distancematrix(cognates)"
   ]
  },
  {
   "cell_type": "code",
   "execution_count": 12,
   "metadata": {},
   "outputs": [
    {
     "name": "stdout",
     "output_type": "stream",
     "text": [
      "{0: ['Awa Pit'], 1: [\"Cha'palaa\"], 2: ['Guambiano', 'Totoro'], 4: ['Tsafiki']}\n",
      "{0: ['Awa Pit', 'Guambiano', 'Totoro'], 1: [\"Cha'palaa\", 'Tsafiki']}\n"
     ]
    }
   ],
   "source": [
    "cluster_dict_p2 = lingpy.flat_upgma(.2,distance_matrix,taxa)\n",
    "cluster_dict_p5 = lingpy.flat_upgma(.5,distance_matrix,taxa)\n",
    "print(cluster_dict_p2)\n",
    "print(cluster_dict_p5)"
   ]
  },
  {
   "cell_type": "code",
   "execution_count": 11,
   "metadata": {},
   "outputs": [
    {
     "data": {
      "text/plain": [
       "['53', '45', '53', '53', '45']"
      ]
     },
     "execution_count": 11,
     "metadata": {},
     "output_type": "execute_result"
    }
   ],
   "source": [
    "gold_clusters = list(barb_cognacy.iloc[2][1:])\n",
    "gold_clusters"
   ]
  },
  {
   "cell_type": "code",
   "execution_count": 19,
   "metadata": {},
   "outputs": [],
   "source": [
    "#gold file clustering to taxa:cluster dictionary transformer for bcubed comparisons\n",
    "def gold_clust2taxa_dict(taxa, clusters):\n",
    "    cluster_dict = {}\n",
    "    for lang, cluster in zip(taxa, clusters):\n",
    "        cluster_dict[lang] = set([cluster])\n",
    "    return cluster_dict\n",
    "\n",
    "gold_taxadict = gold_clust2taxa_dict(taxa, gold_clusters)"
   ]
  },
  {
   "cell_type": "code",
   "execution_count": 17,
   "metadata": {},
   "outputs": [],
   "source": [
    "#lingpy.upgma_flat output to taxa:cluster dictionary transformer for bcubed comparisons\n",
    "def upgma2taxa_dict(calculated_dict):\n",
    "    output_clusters = {}\n",
    "    for clus, langs in calculated_dict.items():\n",
    "        for lang in langs:\n",
    "            output_clusters[lang] = set(str(clus))\n",
    "    return output_clusters\n",
    "\n",
    "p2_taxa_dict = upgma2taxa_dict(cluster_dict_p2)\n",
    "p5_taxa_dict = upgma2taxa_dict(cluster_dict_p5)"
   ]
  },
  {
   "cell_type": "code",
   "execution_count": 20,
   "metadata": {},
   "outputs": [
    {
     "name": "stdout",
     "output_type": "stream",
     "text": [
      "1.0 0.5333333333333333\n"
     ]
    }
   ],
   "source": [
    "precision = bcubed.precision(p2_taxa_dict, gold_taxadict)\n",
    "recall = bcubed.recall(p2_taxa_dict, gold_taxadict)\n",
    "fscore = bcubed.fscore(precision, recall)\n",
    "print(precision, recall)"
   ]
  },
  {
   "cell_type": "code",
   "execution_count": null,
   "metadata": {},
   "outputs": [],
   "source": [
    "def prepare_comparison(threshold:float, gold_row:list, cognates:list, taxa:list)->tuple:\n",
    "    distance_matrix = get_distancematrix(cognates)\n",
    "    cluster_dict = lingpy.flat_upgma(threshold,distance_matrix,taxa)\n",
    "    taxa_dict = upgma2taxa_dict(cluster_dict)\n",
    "    gold_taxadict = gold_clust2taxa_dict(taxa, gold_row)\n",
    "    return taxa_dict, gold_taxadict\n"
   ]
  },
  {
   "cell_type": "code",
   "execution_count": null,
   "metadata": {},
   "outputs": [],
   "source": [
    "def "
   ]
  }
 ],
 "metadata": {
  "kernelspec": {
   "display_name": "Python 3",
   "language": "python",
   "name": "python3"
  },
  "language_info": {
   "codemirror_mode": {
    "name": "ipython",
    "version": 3
   },
   "file_extension": ".py",
   "mimetype": "text/x-python",
   "name": "python",
   "nbconvert_exporter": "python",
   "pygments_lexer": "ipython3",
   "version": "3.11.2"
  }
 },
 "nbformat": 4,
 "nbformat_minor": 2
}
