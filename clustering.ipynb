{
 "cells": [
  {
   "cell_type": "markdown",
   "metadata": {},
   "source": [
    "# imports "
   ]
  },
  {
   "cell_type": "code",
   "execution_count": 117,
   "metadata": {},
   "outputs": [],
   "source": [
    "#imports\n",
    "import lingpy\n",
    "from levenshtein_dist_calc import LevenshteinDistanceCalculator\n",
    "import nltk\n",
    "from read_tab_files import TabFileReader\n",
    "import bcubed\n",
    "from collections import defaultdict"
   ]
  },
  {
   "cell_type": "markdown",
   "metadata": {},
   "source": [
    "# Clustering"
   ]
  },
  {
   "cell_type": "markdown",
   "metadata": {},
   "source": [
    "## testing"
   ]
  },
  {
   "cell_type": "code",
   "execution_count": 41,
   "metadata": {},
   "outputs": [],
   "source": [
    "barb_cognacy = TabFileReader.tab_reader(\n",
    "    \"chl2024_barbacoandata/chl2023_barbacoan_cognacy.tab\"\n",
    ")\n",
    "barb_forms = TabFileReader.tab_reader(\n",
    "    \"chl2024_barbacoandata/chl2023_barbacoan_forms.tab\"\n",
    ")"
   ]
  },
  {
   "cell_type": "code",
   "execution_count": 42,
   "metadata": {},
   "outputs": [],
   "source": [
    "barb_word_list = TabFileReader.get_word_list(barb_forms)\n",
    "barb_alphabet = TabFileReader.get_alphabet(barb_word_list)"
   ]
  },
  {
   "cell_type": "code",
   "execution_count": 54,
   "metadata": {},
   "outputs": [
    {
     "data": {
      "text/plain": [
       "['Awa Pit', \"Cha'palaa\", 'Guambiano', 'Totoro', 'Tsafiki']"
      ]
     },
     "execution_count": 54,
     "metadata": {},
     "output_type": "execute_result"
    }
   ],
   "source": [
    "taxa = list(barb_forms.iloc[0][1:])\n",
    "taxa"
   ]
  },
  {
   "cell_type": "code",
   "execution_count": 44,
   "metadata": {},
   "outputs": [
    {
     "data": {
      "text/plain": [
       "['pil', 'tu', 'pirɨ', 'pirɨ', 'to']"
      ]
     },
     "execution_count": 44,
     "metadata": {},
     "output_type": "execute_result"
    }
   ],
   "source": [
    "cognates = list(barb_forms.iloc[2][1:])\n",
    "cognates"
   ]
  },
  {
   "cell_type": "code",
   "execution_count": 45,
   "metadata": {},
   "outputs": [],
   "source": [
    "barb_calcedit = LevenshteinDistanceCalculator(barb_forms, barb_alphabet)"
   ]
  },
  {
   "cell_type": "code",
   "execution_count": 50,
   "metadata": {},
   "outputs": [],
   "source": [
    "distance_matrix = [[0 for i in range(len(cognates))] \n",
    "                           for j in range(len(cognates))]\n",
    "for i, source in enumerate(cognates):\n",
    "    for j, target in enumerate(cognates):\n",
    "        if (source == \"\" \n",
    "            or target == \"\"):  # if one cognate in pair is missing, null value\n",
    "            distance_matrix[i][j] = float(\"nan\")\n",
    "        else:\n",
    "            distance_matrix[i][j] = nltk.edit_distance(source, target)/max(len(source),len(target))"
   ]
  },
  {
   "cell_type": "code",
   "execution_count": 51,
   "metadata": {},
   "outputs": [
    {
     "data": {
      "text/plain": [
       "[[0.0, 1.0, 0.5, 0.5, 1.0],\n",
       " [1.0, 0.0, 1.0, 1.0, 0.5],\n",
       " [0.5, 1.0, 0.0, 0.0, 1.0],\n",
       " [0.5, 1.0, 0.0, 0.0, 1.0],\n",
       " [1.0, 0.5, 1.0, 1.0, 0.0]]"
      ]
     },
     "execution_count": 51,
     "metadata": {},
     "output_type": "execute_result"
    }
   ],
   "source": [
    "distance_matrix"
   ]
  },
  {
   "cell_type": "code",
   "execution_count": 53,
   "metadata": {},
   "outputs": [
    {
     "data": {
      "text/plain": [
       "\"((Awa Pit:0.25,(Guambiano:0.00,Totoro:0.00):0.25):0.25,(Cha'palaa:0.25,Tsafiki:0.25):0.25);\""
      ]
     },
     "execution_count": 53,
     "metadata": {},
     "output_type": "execute_result"
    }
   ],
   "source": [
    "lingpy.upgma(distance_matrix,taxa,distances=True)\n"
   ]
  },
  {
   "cell_type": "code",
   "execution_count": 170,
   "metadata": {},
   "outputs": [],
   "source": [
    "output_dict_p2 = lingpy.flat_upgma(.2,distance_matrix,taxa)\n",
    "output_dict_p5 = lingpy.flat_upgma(.5,distance_matrix,taxa)"
   ]
  },
  {
   "cell_type": "code",
   "execution_count": 98,
   "metadata": {},
   "outputs": [
    {
     "data": {
      "text/html": [
       "<div>\n",
       "<style scoped>\n",
       "    .dataframe tbody tr th:only-of-type {\n",
       "        vertical-align: middle;\n",
       "    }\n",
       "\n",
       "    .dataframe tbody tr th {\n",
       "        vertical-align: top;\n",
       "    }\n",
       "\n",
       "    .dataframe thead th {\n",
       "        text-align: right;\n",
       "    }\n",
       "</style>\n",
       "<table border=\"1\" class=\"dataframe\">\n",
       "  <thead>\n",
       "    <tr style=\"text-align: right;\">\n",
       "      <th></th>\n",
       "      <th>0</th>\n",
       "      <th>1</th>\n",
       "      <th>2</th>\n",
       "      <th>3</th>\n",
       "      <th>4</th>\n",
       "      <th>5</th>\n",
       "    </tr>\n",
       "  </thead>\n",
       "  <tbody>\n",
       "    <tr>\n",
       "      <th>0</th>\n",
       "      <td>﻿</td>\n",
       "      <td>Awa Pit</td>\n",
       "      <td>Cha'palaa</td>\n",
       "      <td>Guambiano</td>\n",
       "      <td>Totoro</td>\n",
       "      <td>Tsafiki</td>\n",
       "    </tr>\n",
       "    <tr>\n",
       "      <th>1</th>\n",
       "      <td>1-21. the land</td>\n",
       "      <td>45</td>\n",
       "      <td>45</td>\n",
       "      <td></td>\n",
       "      <td></td>\n",
       "      <td>45</td>\n",
       "    </tr>\n",
       "    <tr>\n",
       "      <th>2</th>\n",
       "      <td>1-212. the soil</td>\n",
       "      <td>53</td>\n",
       "      <td>45</td>\n",
       "      <td>53</td>\n",
       "      <td>53</td>\n",
       "      <td>45</td>\n",
       "    </tr>\n",
       "    <tr>\n",
       "      <th>3</th>\n",
       "      <td>1-214. the mud</td>\n",
       "      <td></td>\n",
       "      <td>62</td>\n",
       "      <td></td>\n",
       "      <td></td>\n",
       "      <td>62</td>\n",
       "    </tr>\n",
       "    <tr>\n",
       "      <th>4</th>\n",
       "      <td>1-22. the mountain or hill</td>\n",
       "      <td>67</td>\n",
       "      <td></td>\n",
       "      <td>65</td>\n",
       "      <td>67</td>\n",
       "      <td>65</td>\n",
       "    </tr>\n",
       "  </tbody>\n",
       "</table>\n",
       "</div>"
      ],
      "text/plain": [
       "                            0        1          2          3       4        5\n",
       "0                           ﻿  Awa Pit  Cha'palaa  Guambiano  Totoro  Tsafiki\n",
       "1              1-21. the land       45         45                          45\n",
       "2             1-212. the soil       53         45         53      53       45\n",
       "3              1-214. the mud                  62                          62\n",
       "4  1-22. the mountain or hill       67                    65      67       65"
      ]
     },
     "execution_count": 98,
     "metadata": {},
     "output_type": "execute_result"
    }
   ],
   "source": [
    "barb_cognacy.head()"
   ]
  },
  {
   "cell_type": "code",
   "execution_count": 142,
   "metadata": {},
   "outputs": [
    {
     "data": {
      "text/plain": [
       "['53', '45', '53', '53', '45']"
      ]
     },
     "execution_count": 142,
     "metadata": {},
     "output_type": "execute_result"
    }
   ],
   "source": [
    "gold_clusters = list(barb_cognacy.iloc[2][1:])\n",
    "gold_clusters"
   ]
  },
  {
   "cell_type": "code",
   "execution_count": 152,
   "metadata": {},
   "outputs": [],
   "source": [
    "def get_cluster_dict(taxa, clusters):\n",
    "    cluster_dict = {}\n",
    "    for lang, cluster in zip(taxa, clusters):\n",
    "        cluster_dict[lang] = set([cluster])\n",
    "    return cluster_dict"
   ]
  },
  {
   "cell_type": "code",
   "execution_count": 153,
   "metadata": {},
   "outputs": [],
   "source": [
    "gold_dict = get_cluster_dict(taxa, gold_clusters)"
   ]
  },
  {
   "cell_type": "code",
   "execution_count": 154,
   "metadata": {},
   "outputs": [
    {
     "data": {
      "text/plain": [
       "{'Awa Pit': {'53'},\n",
       " \"Cha'palaa\": {'45'},\n",
       " 'Guambiano': {'53'},\n",
       " 'Totoro': {'53'},\n",
       " 'Tsafiki': {'45'}}"
      ]
     },
     "execution_count": 154,
     "metadata": {},
     "output_type": "execute_result"
    }
   ],
   "source": [
    "gold_dict"
   ]
  },
  {
   "cell_type": "code",
   "execution_count": 168,
   "metadata": {},
   "outputs": [
    {
     "data": {
      "text/plain": [
       "{'Awa Pit': {'0'},\n",
       " 'Guambiano': {'0'},\n",
       " 'Totoro': {'0'},\n",
       " \"Cha'palaa\": {'1'},\n",
       " 'Tsafiki': {'1'}}"
      ]
     },
     "execution_count": 168,
     "metadata": {},
     "output_type": "execute_result"
    }
   ],
   "source": [
    "def get_other_clusters(calculated_dict):\n",
    "    output_clusters = {}\n",
    "    for clus, langs in calculated_dict.items():\n",
    "        for lang in langs:\n",
    "            output_clusters[lang] = set(str(clus))\n"
   ]
  },
  {
   "cell_type": "code",
   "execution_count": 126,
   "metadata": {},
   "outputs": [],
   "source": [
    "ground_truth = {\n",
    "    \"item1\": set([\"gray\", \"black\"]),\n",
    "    \"item2\": set([\"gray\", \"black\"]),\n",
    "    \"item3\": set([\"gray\"]),\n",
    "    \"item4\": set([\"black\"]),\n",
    "    \"item5\": set([\"black\"]),\n",
    "    \"item6\": set([\"dashed\"]),\n",
    "    \"item7\": set([\"dashed\"]),\n",
    "}\n",
    "\n",
    "# example clustering (cdict) in page 24, figure 16\n",
    "clustering = {\n",
    "    \"item1\": set([\"A\", \"B\"]),\n",
    "    \"item2\": set([\"A\", \"B\"]),\n",
    "    \"item3\": set([\"A\"]),\n",
    "    \"item4\": set([\"B\"]),\n",
    "    \"item5\": set([\"B\"]),\n",
    "    \"item6\": set([\"C\"]),\n",
    "    \"item7\": set([\"C\"]),\n",
    "}"
   ]
  },
  {
   "cell_type": "code",
   "execution_count": 169,
   "metadata": {},
   "outputs": [
    {
     "name": "stdout",
     "output_type": "stream",
     "text": [
      "1.0 1.0\n"
     ]
    }
   ],
   "source": [
    "precision = bcubed.precision(output_clusters, gold_dict)\n",
    "recall = bcubed.recall(output_clusters,gold_dict)\n",
    "#fscore = bcubed.fscore(output_clusters,gold_dict)\n",
    "print(precision, recall)"
   ]
  },
  {
   "cell_type": "code",
   "execution_count": 178,
   "metadata": {},
   "outputs": [
    {
     "name": "stdout",
     "output_type": "stream",
     "text": [
      "Example 1: High Precision, Low Recall\n",
      "Precision: 1.0\n",
      "Recall: 0.5555555555555555\n",
      "F1 Score: 0.7142857142857143\n",
      "\n",
      "Example 2: Low Precision, High Recall\n",
      "Precision: 0.5\n",
      "Recall: 1.0\n",
      "F1 Score: 0.6666666666666666\n",
      "\n",
      "Example 3: Moderate Precision and Recall\n",
      "Precision: 0.5555555555555555\n",
      "Recall: 0.8333333333333334\n",
      "F1 Score: 0.6666666666666666\n",
      "\n",
      "Example 4: Perfect Scores\n",
      "Precision: 1.0\n",
      "Recall: 1.0\n",
      "F1 Score: 1.0\n",
      "\n"
     ]
    }
   ],
   "source": [
    "from collections import defaultdict\n",
    "\n",
    "\n",
    "def b_cubed(true_clusters, predicted_clusters):\n",
    "    # Mapping of cluster indices to labels\n",
    "    true_cluster_labels = defaultdict(set)\n",
    "    predicted_cluster_labels = defaultdict(set)\n",
    "\n",
    "    for label, true_cluster in true_clusters.items():\n",
    "        true_cluster_labels[true_cluster].add(label)\n",
    "\n",
    "    for label, predicted_cluster in predicted_clusters.items():\n",
    "        predicted_cluster_labels[predicted_cluster].add(label)\n",
    "\n",
    "    # Calculate the B-cubed precision and recall\n",
    "    precision_sums = 0\n",
    "    recall_sums = 0\n",
    "    num_items = len(true_clusters)\n",
    "\n",
    "    for label, true_cluster in true_clusters.items():\n",
    "        predicted_cluster = predicted_clusters[label]\n",
    "\n",
    "        true_cluster_size = len(true_cluster_labels[true_cluster])\n",
    "        predicted_cluster_size = len(predicted_cluster_labels[predicted_cluster])\n",
    "\n",
    "        true_positives = len(\n",
    "            true_cluster_labels[true_cluster].intersection(\n",
    "                predicted_cluster_labels[predicted_cluster]\n",
    "            )\n",
    "        )\n",
    "\n",
    "        precision = (\n",
    "            true_positives / predicted_cluster_size if predicted_cluster_size > 0 else 0\n",
    "        )\n",
    "        recall = true_positives / true_cluster_size if true_cluster_size > 0 else 0\n",
    "\n",
    "        precision_sums += precision\n",
    "        recall_sums += recall\n",
    "\n",
    "    b_cubed_precision = precision_sums / num_items\n",
    "    b_cubed_recall = recall_sums / num_items\n",
    "    b_cubed_f1 = (\n",
    "        (2 * b_cubed_precision * b_cubed_recall) / (b_cubed_precision + b_cubed_recall)\n",
    "        if (b_cubed_precision + b_cubed_recall) > 0\n",
    "        else 0\n",
    "    )\n",
    "\n",
    "    return b_cubed_precision, b_cubed_recall, b_cubed_f1\n",
    "\n",
    "\n",
    "datasets = {\n",
    "    \"Example 1: High Precision, Low Recall\": (\n",
    "        {\"A\": 1, \"B\": 1, \"C\": 1, \"D\": 2, \"E\": 2, \"F\": 2},\n",
    "        {\"A\": 1, \"B\": 1, \"C\": 2, \"D\": 3, \"E\": 3, \"F\": 4},\n",
    "    ),\n",
    "    \"Example 2: Low Precision, High Recall\": (\n",
    "        {\"A\": 1, \"B\": 1, \"C\": 1, \"D\": 2, \"E\": 2, \"F\": 2},\n",
    "        {\"A\": 1, \"B\": 1, \"C\": 1, \"D\": 1, \"E\": 1, \"F\": 1},\n",
    "    ),\n",
    "    \"Example 3: Moderate Precision and Recall\": (\n",
    "        {\"A\": 1, \"B\": 1, \"C\": 2, \"D\": 2, \"E\": 3, \"F\": 3},\n",
    "        {\"A\": 1, \"B\": 1, \"C\": 1, \"D\": 2, \"E\": 2, \"F\": 2},\n",
    "    ),\n",
    "    \"Example 4: Perfect Scores\": (\n",
    "        {\"A\": 7, \"B\": 7, \"C\": 7, \"D\": 3, \"E\": 3, \"F\": 3},\n",
    "        {\"A\": 1, \"B\": 1, \"C\": 1, \"D\": 2, \"E\": 2, \"F\": 2},\n",
    "    ),\n",
    "}\n",
    "\n",
    "for description, (golden, hypothesis) in datasets.items():\n",
    "    precision, recall, f1_score = b_cubed(golden, hypothesis)\n",
    "    print(description)\n",
    "    print(\"Precision:\", precision)\n",
    "    print(\"Recall:\", recall)\n",
    "    print(\"F1 Score:\", f1_score)\n",
    "    print()"
   ]
  },
  {
   "cell_type": "code",
   "execution_count": 175,
   "metadata": {},
   "outputs": [
    {
     "data": {
      "text/plain": [
       "{'Awa Pit': {'0'},\n",
       " 'Guambiano': {'0'},\n",
       " 'Totoro': {'0'},\n",
       " \"Cha'palaa\": {'1'},\n",
       " 'Tsafiki': {'1'}}"
      ]
     },
     "execution_count": 175,
     "metadata": {},
     "output_type": "execute_result"
    }
   ],
   "source": [
    "output_clusters"
   ]
  },
  {
   "cell_type": "code",
   "execution_count": null,
   "metadata": {},
   "outputs": [],
   "source": [
    "tiago_gold = gold_dict.copy()\n",
    "for "
   ]
  },
  {
   "cell_type": "code",
   "execution_count": 176,
   "metadata": {},
   "outputs": [
    {
     "ename": "TypeError",
     "evalue": "unhashable type: 'set'",
     "output_type": "error",
     "traceback": [
      "\u001b[0;31m---------------------------------------------------------------------------\u001b[0m",
      "\u001b[0;31mTypeError\u001b[0m                                 Traceback (most recent call last)",
      "Cell \u001b[0;32mIn[176], line 1\u001b[0m\n\u001b[0;32m----> 1\u001b[0m precision, recall, f1_score \u001b[38;5;241m=\u001b[39m \u001b[43mb_cubed\u001b[49m\u001b[43m(\u001b[49m\u001b[43mgold_dict\u001b[49m\u001b[43m,\u001b[49m\u001b[43m \u001b[49m\u001b[43moutput_clusters\u001b[49m\u001b[43m)\u001b[49m\n",
      "Cell \u001b[0;32mIn[171], line 10\u001b[0m, in \u001b[0;36mb_cubed\u001b[0;34m(true_clusters, predicted_clusters)\u001b[0m\n\u001b[1;32m      7\u001b[0m predicted_cluster_labels \u001b[38;5;241m=\u001b[39m defaultdict(\u001b[38;5;28mset\u001b[39m)\n\u001b[1;32m      9\u001b[0m \u001b[38;5;28;01mfor\u001b[39;00m label, true_cluster \u001b[38;5;129;01min\u001b[39;00m true_clusters\u001b[38;5;241m.\u001b[39mitems():\n\u001b[0;32m---> 10\u001b[0m     \u001b[43mtrue_cluster_labels\u001b[49m\u001b[43m[\u001b[49m\u001b[43mtrue_cluster\u001b[49m\u001b[43m]\u001b[49m\u001b[38;5;241m.\u001b[39madd(label)\n\u001b[1;32m     12\u001b[0m \u001b[38;5;28;01mfor\u001b[39;00m label, predicted_cluster \u001b[38;5;129;01min\u001b[39;00m predicted_clusters\u001b[38;5;241m.\u001b[39mitems():\n\u001b[1;32m     13\u001b[0m     predicted_cluster_labels[predicted_cluster]\u001b[38;5;241m.\u001b[39madd(label)\n",
      "\u001b[0;31mTypeError\u001b[0m: unhashable type: 'set'"
     ]
    }
   ],
   "source": [
    "precision, recall, f1_score = b_cubed(gold_dict, output_clusters)"
   ]
  },
  {
   "cell_type": "code",
   "execution_count": 123,
   "metadata": {},
   "outputs": [],
   "source": [
    "words = lingpy.Wordlist(\"test.qlc\")"
   ]
  },
  {
   "cell_type": "code",
   "execution_count": 125,
   "metadata": {},
   "outputs": [
    {
     "data": {
      "text/plain": [
       "['doculect', 'concept', 'glossid', 'orthography', 'ipa', 'tokens', 'cogid']"
      ]
     },
     "execution_count": 125,
     "metadata": {},
     "output_type": "execute_result"
    }
   ],
   "source": [
    "words.columns"
   ]
  }
 ],
 "metadata": {
  "kernelspec": {
   "display_name": "Python 3",
   "language": "python",
   "name": "python3"
  },
  "language_info": {
   "codemirror_mode": {
    "name": "ipython",
    "version": 3
   },
   "file_extension": ".py",
   "mimetype": "text/x-python",
   "name": "python",
   "nbconvert_exporter": "python",
   "pygments_lexer": "ipython3",
   "version": "3.11.2"
  }
 },
 "nbformat": 4,
 "nbformat_minor": 2
}
