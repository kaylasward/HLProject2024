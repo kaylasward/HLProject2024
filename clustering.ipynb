{
 "cells": [
  {
   "cell_type": "markdown",
   "metadata": {},
   "source": [
    "# imports "
   ]
  },
  {
   "cell_type": "code",
   "execution_count": 13,
   "metadata": {},
   "outputs": [],
   "source": [
    "#imports\n",
    "import lingpy\n",
    "from levenshtein_dist_calc import LevenshteinDistanceCalculator\n",
    "import nltk\n",
    "from read_tab_files import TabFileReader\n",
    "import bcubed\n",
    "from collections import defaultdict"
   ]
  },
  {
   "cell_type": "markdown",
   "metadata": {},
   "source": [
    "# Clustering"
   ]
  },
  {
   "cell_type": "markdown",
   "metadata": {},
   "source": [
    "## testing"
   ]
  },
  {
   "cell_type": "code",
   "execution_count": 14,
   "metadata": {},
   "outputs": [],
   "source": [
    "barb_cognacy = TabFileReader.tab_reader(\n",
    "    \"chl2024_barbacoandata/chl2023_barbacoan_cognacy.tab\"\n",
    ")\n",
    "barb_forms = TabFileReader.tab_reader(\n",
    "    \"chl2024_barbacoandata/chl2023_barbacoan_forms.tab\"\n",
    ")"
   ]
  },
  {
   "cell_type": "code",
   "execution_count": 15,
   "metadata": {},
   "outputs": [],
   "source": [
    "barb_word_list = TabFileReader.get_word_list(barb_forms)\n",
    "barb_alphabet = TabFileReader.get_alphabet(barb_word_list)"
   ]
  },
  {
   "cell_type": "code",
   "execution_count": 16,
   "metadata": {},
   "outputs": [
    {
     "data": {
      "text/plain": [
       "['Awa Pit', \"Cha'palaa\", 'Guambiano', 'Totoro', 'Tsafiki']"
      ]
     },
     "execution_count": 16,
     "metadata": {},
     "output_type": "execute_result"
    }
   ],
   "source": [
    "taxa = list(barb_forms.iloc[0][1:])\n",
    "taxa"
   ]
  },
  {
   "cell_type": "code",
   "execution_count": 30,
   "metadata": {},
   "outputs": [
    {
     "data": {
      "text/plain": [
       "['su', 'tu', '', '', 'to']"
      ]
     },
     "execution_count": 30,
     "metadata": {},
     "output_type": "execute_result"
    }
   ],
   "source": [
    "cognates = list(barb_forms.iloc[1][1:])\n",
    "cognates"
   ]
  },
  {
   "cell_type": "code",
   "execution_count": 18,
   "metadata": {},
   "outputs": [],
   "source": [
    "#calculate distance matrix from cognate list (integrate with levenshtein distance calc maybe)\n",
    "def get_distancematrix(cognate_list):\n",
    "    if \n",
    "    distance_matrix = [[0 for i in range(len(cognate_list))] \n",
    "                           for j in range(len(cognate_list))]\n",
    "    for i, source in enumerate(cognate_list):\n",
    "        for j, target in enumerate(cognate_list):\n",
    "            if (source == \"\" \n",
    "                or target == \"\"):  # if one cognate in pair is missing, null value\n",
    "                distance_matrix[i][j] = float(\"nan\")\n",
    "            else:\n",
    "                distance_matrix[i][j] = nltk.edit_distance(source, target)/max(len(source),len(target))\n",
    "    \n",
    "    return distance_matrix"
   ]
  },
  {
   "cell_type": "code",
   "execution_count": 39,
   "metadata": {},
   "outputs": [],
   "source": [
    "distance_matrix = get_distancematrix(cognates)"
   ]
  },
  {
   "cell_type": "code",
   "execution_count": 40,
   "metadata": {},
   "outputs": [
    {
     "data": {
      "text/plain": [
       "[[0.0, 0.5, nan, nan, 1.0],\n",
       " [0.5, 0.0, nan, nan, 0.5],\n",
       " [nan, nan, nan, nan, nan],\n",
       " [nan, nan, nan, nan, nan],\n",
       " [1.0, 0.5, nan, nan, 0.0]]"
      ]
     },
     "execution_count": 40,
     "metadata": {},
     "output_type": "execute_result"
    }
   ],
   "source": [
    "distance_matrix"
   ]
  },
  {
   "cell_type": "code",
   "execution_count": 32,
   "metadata": {},
   "outputs": [
    {
     "name": "stdout",
     "output_type": "stream",
     "text": [
      "{0: ['Awa Pit'], 1: [\"Cha'palaa\"], 2: ['Guambiano'], 3: ['Totoro'], 4: ['Tsafiki']}\n",
      "{0: ['Awa Pit', \"Cha'palaa\"], 2: ['Guambiano'], 3: ['Totoro'], 4: ['Tsafiki']}\n"
     ]
    }
   ],
   "source": [
    "cluster_dict_p2 = lingpy.flat_upgma(.2,distance_matrix,taxa)\n",
    "cluster_dict_p5 = lingpy.flat_upgma(.5,distance_matrix,taxa)\n",
    "print(cluster_dict_p2)\n",
    "print(cluster_dict_p5)"
   ]
  },
  {
   "cell_type": "code",
   "execution_count": 33,
   "metadata": {},
   "outputs": [
    {
     "data": {
      "text/plain": [
       "['Awa Pit', \"Cha'palaa\", 'Guambiano', 'Totoro', 'Tsafiki']"
      ]
     },
     "execution_count": 33,
     "metadata": {},
     "output_type": "execute_result"
    }
   ],
   "source": [
    "taxa"
   ]
  },
  {
   "cell_type": "code",
   "execution_count": 34,
   "metadata": {},
   "outputs": [
    {
     "data": {
      "text/plain": [
       "['45', '45', '', '', '45']"
      ]
     },
     "execution_count": 34,
     "metadata": {},
     "output_type": "execute_result"
    }
   ],
   "source": [
    "gold_clusters = list(barb_cognacy.iloc[1][1:])\n",
    "gold_clusters"
   ]
  },
  {
   "cell_type": "code",
   "execution_count": 35,
   "metadata": {},
   "outputs": [],
   "source": [
    "#gold file clustering to taxa:cluster dictionary transformer for bcubed comparisons\n",
    "def gold_clust2taxa_dict(taxa, clusters):\n",
    "    cluster_dict = {}\n",
    "    for lang, cluster in zip(taxa, clusters):\n",
    "        cluster_dict[lang] = set([cluster])\n",
    "    return cluster_dict\n",
    "\n",
    "gold_taxadict = gold_clust2taxa_dict(taxa, gold_clusters)"
   ]
  },
  {
   "cell_type": "code",
   "execution_count": 38,
   "metadata": {},
   "outputs": [
    {
     "data": {
      "text/plain": [
       "{'Awa Pit': {'45'},\n",
       " \"Cha'palaa\": {'45'},\n",
       " 'Guambiano': {''},\n",
       " 'Totoro': {''},\n",
       " 'Tsafiki': {'45'}}"
      ]
     },
     "execution_count": 38,
     "metadata": {},
     "output_type": "execute_result"
    }
   ],
   "source": [
    "gold_taxadict"
   ]
  },
  {
   "cell_type": "code",
   "execution_count": 36,
   "metadata": {},
   "outputs": [],
   "source": [
    "#lingpy.upgma_flat output to taxa:cluster dictionary transformer for bcubed comparisons\n",
    "def upgma2taxa_dict(calculated_dict):\n",
    "    output_clusters = {}\n",
    "    for clus, langs in calculated_dict.items():\n",
    "        for lang in langs:\n",
    "            output_clusters[lang] = set(str(clus))\n",
    "    return output_clusters\n",
    "\n",
    "p2_taxa_dict = upgma2taxa_dict(cluster_dict_p2)\n",
    "p5_taxa_dict = upgma2taxa_dict(cluster_dict_p5)"
   ]
  },
  {
   "cell_type": "code",
   "execution_count": 41,
   "metadata": {},
   "outputs": [
    {
     "name": "stdout",
     "output_type": "stream",
     "text": [
      "1.0 0.5333333333333333\n"
     ]
    }
   ],
   "source": [
    "precision = bcubed.precision(p5_taxa_dict, gold_taxadict)\n",
    "recall = bcubed.recall(p5_taxa_dict, gold_taxadict)\n",
    "fscore = bcubed.fscore(precision, recall)\n",
    "print(precision, recall)"
   ]
  },
  {
   "cell_type": "code",
   "execution_count": 29,
   "metadata": {},
   "outputs": [
    {
     "data": {
      "text/plain": [
       "0    1-21. the land\n",
       "1                45\n",
       "2                45\n",
       "3                  \n",
       "4                  \n",
       "5                45\n",
       "Name: 1, dtype: object"
      ]
     },
     "execution_count": 29,
     "metadata": {},
     "output_type": "execute_result"
    }
   ],
   "source": [
    "barb_cognacy.iloc[1]"
   ]
  },
  {
   "cell_type": "code",
   "execution_count": 25,
   "metadata": {},
   "outputs": [],
   "source": [
    "def prepare_comparison(threshold:float, gold_row:list, cognates:list, taxa:list)->tuple:\n",
    "    distance_matrix = get_distancematrix(cognates)\n",
    "    cluster_dict = lingpy.flat_upgma(threshold,distance_matrix,taxa)\n",
    "    taxa_dict = upgma2taxa_dict(cluster_dict)\n",
    "    gold_taxadict = gold_clust2taxa_dict(taxa, gold_row)\n",
    "    return taxa_dict, gold_taxadict\n"
   ]
  },
  {
   "cell_type": "code",
   "execution_count": 56,
   "metadata": {},
   "outputs": [],
   "source": [
    "def main(language_fam, fam_gold, threshold=4, remove_gaps = False):\n",
    "    precision = 0\n",
    "    recall = 0\n",
    "    fscore = 0\n",
    "    taxa = list(language_fam.iloc[0][1:])\n",
    "    for i in range(1, len(language_fam)):\n",
    "        cognates = list(language_fam.iloc[i][1:])\n",
    "        gold_row = list(fam_gold.iloc[i][1:])\n",
    "        if remove_gaps == True:\n",
    "            if \"\" in gold_row:\n",
    "                gold_row.remove(\"\")\n",
    "            if \"\" in cognates:\n",
    "                cognates.remove(\"\")\n",
    "        taxa_dict, gold_taxadict = prepare_comparison(threshold, gold_row, cognates, taxa)\n",
    "        precision += bcubed.precision(taxa_dict, gold_taxadict)\n",
    "        recall += bcubed.recall(taxa_dict, gold_taxadict)\n",
    "        fscore += bcubed.fscore(precision, recall)\n",
    "    n_rows = len(language_fam)-1\n",
    "    return precision/n_rows, recall/n_rows, fscore/n_rows\n",
    "    "
   ]
  },
  {
   "cell_type": "code",
   "execution_count": 57,
   "metadata": {},
   "outputs": [
    {
     "name": "stdout",
     "output_type": "stream",
     "text": [
      "(0.9355848724714162, 0.5966578715919097, 138.9135688055214)\n",
      "(0.8454353562005275, 0.7675901495162708, 153.83834390780655)\n"
     ]
    }
   ],
   "source": [
    "print(main(barb_forms, barb_cognacy))\n",
    "print(main(barb_forms, barb_cognacy, remove_gaps=True))"
   ]
  }
 ],
 "metadata": {
  "kernelspec": {
   "display_name": "Python 3",
   "language": "python",
   "name": "python3"
  },
  "language_info": {
   "codemirror_mode": {
    "name": "ipython",
    "version": 3
   },
   "file_extension": ".py",
   "mimetype": "text/x-python",
   "name": "python",
   "nbconvert_exporter": "python",
   "pygments_lexer": "ipython3",
   "version": "3.11.2"
  }
 },
 "nbformat": 4,
 "nbformat_minor": 2
}
