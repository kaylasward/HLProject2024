{
  "cells": [
    {
      "cell_type": "markdown",
      "metadata": {
        "colab_type": "text",
        "id": "view-in-github"
      },
      "source": [
        "<a href=\"https://colab.research.google.com/github/kaylasward/HLProject2024/blob/master/Edit_distance.ipynb\" target=\"_parent\"><img src=\"https://colab.research.google.com/assets/colab-badge.svg\" alt=\"Open In Colab\"/></a>"
      ]
    },
    {
      "cell_type": "code",
      "execution_count": 1,
      "metadata": {
        "id": "JfQ8FYZk9YJL"
      },
      "outputs": [],
      "source": [
        "#imports\n",
        "from nltk.metrics import distance\n",
        "import matplotlib.pyplot as plt\n",
        "import pandas as pd\n",
        "from IPython.display import display"
      ]
    },
    {
      "cell_type": "code",
      "execution_count": 2,
      "metadata": {
        "id": "SPcGKWej-LZZ"
      },
      "outputs": [],
      "source": [
        "#example strings with lengths n and m\n",
        "string1 = \"ran\"\n",
        "string2 = \"rn\"\n",
        "string3 = \"rabain\"\n",
        "string4 = \"sak\""
      ]
    },
    {
      "cell_type": "code",
      "execution_count": 3,
      "metadata": {
        "colab": {
          "base_uri": "https://localhost:8080/"
        },
        "id": "ZoP8p8FE-_b4",
        "outputId": "c8ca45d8-5b66-4de3-95d6-b17899b315a8"
      },
      "outputs": [
        {
          "data": {
            "text/plain": [
              "3"
            ]
          },
          "execution_count": 3,
          "metadata": {},
          "output_type": "execute_result"
        }
      ],
      "source": [
        "#edit distance as number of inserts, deletions, or substitutions\n",
        "distance.edit_distance(string1, string3)"
      ]
    },
    {
      "cell_type": "code",
      "execution_count": 4,
      "metadata": {
        "id": "LQelkBPf_HXD"
      },
      "outputs": [],
      "source": [
        "#alignment as backtrace coordinates on n x m matrix\n",
        "backtrace = distance.edit_distance_align(string1, string3)\n",
        "backtrace2 = distance.edit_distance_align(string1, string2)\n",
        "backtrace3 = distance.edit_distance_align(string3, string1)\n",
        "backtrace4 = distance.edit_distance_align(string1, string4)"
      ]
    },
    {
      "cell_type": "code",
      "execution_count": 5,
      "metadata": {
        "colab": {
          "base_uri": "https://localhost:8080/"
        },
        "id": "FtZOu34CkF-l",
        "outputId": "b30d4543-41f5-4a14-8d4b-0ab3339d8a4c"
      },
      "outputs": [
        {
          "name": "stdout",
          "output_type": "stream",
          "text": [
            "[(0, 0), (1, 1), (2, 2), (2, 3), (2, 4), (2, 5), (3, 6)]\n",
            "[(0, 0), (1, 1), (2, 1), (3, 2)]\n",
            "[(0, 0), (1, 1), (2, 2), (3, 2), (4, 2), (5, 2), (6, 3)]\n"
          ]
        }
      ],
      "source": [
        "print(backtrace)\n",
        "print(backtrace2)\n",
        "print(backtrace3)"
      ]
    },
    {
      "cell_type": "markdown",
      "metadata": {
        "id": "Bwwj4Odtutqs"
      },
      "source": [
        "dataframe style advice from here:\n",
        "https://queirozf.com/entries/pandas-dataframe-examples-styling-cells-and-conditional-formatting"
      ]
    },
    {
      "cell_type": "code",
      "execution_count": 6,
      "metadata": {
        "id": "4pAnwZlElw2x"
      },
      "outputs": [],
      "source": [
        "def background_not_equal(row):\n",
        "  highlight = 'background-color: lightcoral;'\n",
        "  default = ''\n",
        "\n",
        "\n",
        "  if row[0] != row[1]:\n",
        "    return [highlight, default]\n",
        "  else:\n",
        "    return [default, default]\n",
        "\n",
        "def show_alignment(data):\n",
        "  df = pd.DataFrame(data)\n",
        "\n",
        "  return df.style.apply(background_not_equal, subset=list(df.columns), axis=1)"
      ]
    },
    {
      "cell_type": "markdown",
      "metadata": {
        "id": "h21fLTJ0IBA1"
      },
      "source": [
        "credit to:\n",
        "https://necromuralist.github.io/Neurotic-Networking/posts/nlp/autocorrect-minimum-edit-distance-backtrace/index.html\n",
        "\n",
        "for overall logic of the following code.\n",
        "\n",
        "Alignment\n",
        "The rules for skipping characters as we move through the cells in the path are:\n",
        "\n",
        "* If the current row is the same as the previous one, skip the character in the source, but add the character from the target.\n",
        "* If the current column is the same as the previous one, skip the character in the target but add the character from the source."
      ]
    },
    {
      "cell_type": "code",
      "execution_count": 7,
      "metadata": {
        "id": "Yu913Cfy_BW0"
      },
      "outputs": [],
      "source": [
        "#interpret coordinates for visualizing\n",
        "def viz_align(path, source, target):\n",
        "  prow = pcol = None    #previous row/column, updates at end of loop\n",
        "  empty_token = \"*\"     #star denoting an empty token for insert/delete\n",
        "  #lists to be printed at the end.\n",
        "  source_toks = []\n",
        "  target_toks = []\n",
        "\n",
        "  #compares coordinates with previous points (starting at second) in path\n",
        "  for crow, ccol in path[1:]:\n",
        "    #if current row is same as previous, skip source char, but add target\n",
        "    if crow != prow:\n",
        "      source_token = source[crow-1] #adding source\n",
        "    else:\n",
        "      source_token = empty_token\n",
        "    #if current column is same as previous, skip target char, but add source\n",
        "    if ccol != pcol:\n",
        "      target_token = target[ccol-1] #adding target\n",
        "    else:\n",
        "      target_token = empty_token\n",
        "\n",
        "    #append tokens\n",
        "    source_toks.append(source_token)\n",
        "    target_toks.append(target_token)\n",
        "\n",
        "    prow,pcol = crow,ccol\n",
        "\n",
        "  data = {\n",
        "    source: source_toks,\n",
        "    target: target_toks\n",
        "    }\n",
        "\n",
        "  return show_alignment(data)"
      ]
    },
    {
      "cell_type": "code",
      "execution_count": 8,
      "metadata": {
        "colab": {
          "base_uri": "https://localhost:8080/",
          "height": 143
        },
        "id": "N5lxqM9eA01d",
        "outputId": "4c856295-33bc-42b0-bc2b-a79ba718518d"
      },
      "outputs": [
        {
          "name": "stderr",
          "output_type": "stream",
          "text": [
            "/var/folders/3p/m66q5cs907v4lvm0_svn5b2m0000gn/T/ipykernel_1796/1888026934.py:6: FutureWarning: Series.__getitem__ treating keys as positions is deprecated. In a future version, integer keys will always be treated as labels (consistent with DataFrame behavior). To access a value by position, use `ser.iloc[pos]`\n",
            "  if row[0] != row[1]:\n"
          ]
        },
        {
          "data": {
            "text/html": [
              "<style type=\"text/css\">\n",
              "#T_2e752_row0_col0, #T_2e752_row2_col0 {\n",
              "  background-color: lightcoral;\n",
              "}\n",
              "</style>\n",
              "<table id=\"T_2e752\">\n",
              "  <thead>\n",
              "    <tr>\n",
              "      <th class=\"blank level0\" >&nbsp;</th>\n",
              "      <th id=\"T_2e752_level0_col0\" class=\"col_heading level0 col0\" >ran</th>\n",
              "      <th id=\"T_2e752_level0_col1\" class=\"col_heading level0 col1\" >sak</th>\n",
              "    </tr>\n",
              "  </thead>\n",
              "  <tbody>\n",
              "    <tr>\n",
              "      <th id=\"T_2e752_level0_row0\" class=\"row_heading level0 row0\" >0</th>\n",
              "      <td id=\"T_2e752_row0_col0\" class=\"data row0 col0\" >r</td>\n",
              "      <td id=\"T_2e752_row0_col1\" class=\"data row0 col1\" >s</td>\n",
              "    </tr>\n",
              "    <tr>\n",
              "      <th id=\"T_2e752_level0_row1\" class=\"row_heading level0 row1\" >1</th>\n",
              "      <td id=\"T_2e752_row1_col0\" class=\"data row1 col0\" >a</td>\n",
              "      <td id=\"T_2e752_row1_col1\" class=\"data row1 col1\" >a</td>\n",
              "    </tr>\n",
              "    <tr>\n",
              "      <th id=\"T_2e752_level0_row2\" class=\"row_heading level0 row2\" >2</th>\n",
              "      <td id=\"T_2e752_row2_col0\" class=\"data row2 col0\" >n</td>\n",
              "      <td id=\"T_2e752_row2_col1\" class=\"data row2 col1\" >k</td>\n",
              "    </tr>\n",
              "  </tbody>\n",
              "</table>\n"
            ],
            "text/plain": [
              "<pandas.io.formats.style.Styler at 0x283366ab0>"
            ]
          },
          "execution_count": 8,
          "metadata": {},
          "output_type": "execute_result"
        }
      ],
      "source": [
        "styler = viz_align(backtrace4, string1, string4)\n",
        "styler"
      ]
    },
    {
      "cell_type": "code",
      "execution_count": 9,
      "metadata": {
        "colab": {
          "base_uri": "https://localhost:8080/",
          "height": 238
        },
        "id": "li99CLxjtCt6",
        "outputId": "a6248aed-a73f-4d31-dc7c-fd31d67c9b5a"
      },
      "outputs": [
        {
          "name": "stderr",
          "output_type": "stream",
          "text": [
            "/var/folders/3p/m66q5cs907v4lvm0_svn5b2m0000gn/T/ipykernel_1796/1888026934.py:6: FutureWarning: Series.__getitem__ treating keys as positions is deprecated. In a future version, integer keys will always be treated as labels (consistent with DataFrame behavior). To access a value by position, use `ser.iloc[pos]`\n",
            "  if row[0] != row[1]:\n"
          ]
        },
        {
          "data": {
            "text/html": [
              "<style type=\"text/css\">\n",
              "#T_ef1eb_row2_col0, #T_ef1eb_row3_col0, #T_ef1eb_row4_col0 {\n",
              "  background-color: lightcoral;\n",
              "}\n",
              "</style>\n",
              "<table id=\"T_ef1eb\">\n",
              "  <thead>\n",
              "    <tr>\n",
              "      <th class=\"blank level0\" >&nbsp;</th>\n",
              "      <th id=\"T_ef1eb_level0_col0\" class=\"col_heading level0 col0\" >ran</th>\n",
              "      <th id=\"T_ef1eb_level0_col1\" class=\"col_heading level0 col1\" >rabain</th>\n",
              "    </tr>\n",
              "  </thead>\n",
              "  <tbody>\n",
              "    <tr>\n",
              "      <th id=\"T_ef1eb_level0_row0\" class=\"row_heading level0 row0\" >0</th>\n",
              "      <td id=\"T_ef1eb_row0_col0\" class=\"data row0 col0\" >r</td>\n",
              "      <td id=\"T_ef1eb_row0_col1\" class=\"data row0 col1\" >r</td>\n",
              "    </tr>\n",
              "    <tr>\n",
              "      <th id=\"T_ef1eb_level0_row1\" class=\"row_heading level0 row1\" >1</th>\n",
              "      <td id=\"T_ef1eb_row1_col0\" class=\"data row1 col0\" >a</td>\n",
              "      <td id=\"T_ef1eb_row1_col1\" class=\"data row1 col1\" >a</td>\n",
              "    </tr>\n",
              "    <tr>\n",
              "      <th id=\"T_ef1eb_level0_row2\" class=\"row_heading level0 row2\" >2</th>\n",
              "      <td id=\"T_ef1eb_row2_col0\" class=\"data row2 col0\" >*</td>\n",
              "      <td id=\"T_ef1eb_row2_col1\" class=\"data row2 col1\" >b</td>\n",
              "    </tr>\n",
              "    <tr>\n",
              "      <th id=\"T_ef1eb_level0_row3\" class=\"row_heading level0 row3\" >3</th>\n",
              "      <td id=\"T_ef1eb_row3_col0\" class=\"data row3 col0\" >*</td>\n",
              "      <td id=\"T_ef1eb_row3_col1\" class=\"data row3 col1\" >a</td>\n",
              "    </tr>\n",
              "    <tr>\n",
              "      <th id=\"T_ef1eb_level0_row4\" class=\"row_heading level0 row4\" >4</th>\n",
              "      <td id=\"T_ef1eb_row4_col0\" class=\"data row4 col0\" >*</td>\n",
              "      <td id=\"T_ef1eb_row4_col1\" class=\"data row4 col1\" >i</td>\n",
              "    </tr>\n",
              "    <tr>\n",
              "      <th id=\"T_ef1eb_level0_row5\" class=\"row_heading level0 row5\" >5</th>\n",
              "      <td id=\"T_ef1eb_row5_col0\" class=\"data row5 col0\" >n</td>\n",
              "      <td id=\"T_ef1eb_row5_col1\" class=\"data row5 col1\" >n</td>\n",
              "    </tr>\n",
              "  </tbody>\n",
              "</table>\n"
            ],
            "text/plain": [
              "<pandas.io.formats.style.Styler at 0x2834d6ba0>"
            ]
          },
          "execution_count": 9,
          "metadata": {},
          "output_type": "execute_result"
        }
      ],
      "source": [
        "viz_align(backtrace, string1, string3)"
      ]
    },
    {
      "cell_type": "code",
      "execution_count": 10,
      "metadata": {
        "colab": {
          "base_uri": "https://localhost:8080/",
          "height": 143
        },
        "id": "0x836qg_tIFB",
        "outputId": "8107154a-4101-4366-f4f4-a49881a5f812"
      },
      "outputs": [
        {
          "name": "stderr",
          "output_type": "stream",
          "text": [
            "/var/folders/3p/m66q5cs907v4lvm0_svn5b2m0000gn/T/ipykernel_1796/1888026934.py:6: FutureWarning: Series.__getitem__ treating keys as positions is deprecated. In a future version, integer keys will always be treated as labels (consistent with DataFrame behavior). To access a value by position, use `ser.iloc[pos]`\n",
            "  if row[0] != row[1]:\n"
          ]
        },
        {
          "data": {
            "text/html": [
              "<style type=\"text/css\">\n",
              "#T_d577f_row1_col0 {\n",
              "  background-color: lightcoral;\n",
              "}\n",
              "</style>\n",
              "<table id=\"T_d577f\">\n",
              "  <thead>\n",
              "    <tr>\n",
              "      <th class=\"blank level0\" >&nbsp;</th>\n",
              "      <th id=\"T_d577f_level0_col0\" class=\"col_heading level0 col0\" >ran</th>\n",
              "      <th id=\"T_d577f_level0_col1\" class=\"col_heading level0 col1\" >rn</th>\n",
              "    </tr>\n",
              "  </thead>\n",
              "  <tbody>\n",
              "    <tr>\n",
              "      <th id=\"T_d577f_level0_row0\" class=\"row_heading level0 row0\" >0</th>\n",
              "      <td id=\"T_d577f_row0_col0\" class=\"data row0 col0\" >r</td>\n",
              "      <td id=\"T_d577f_row0_col1\" class=\"data row0 col1\" >r</td>\n",
              "    </tr>\n",
              "    <tr>\n",
              "      <th id=\"T_d577f_level0_row1\" class=\"row_heading level0 row1\" >1</th>\n",
              "      <td id=\"T_d577f_row1_col0\" class=\"data row1 col0\" >a</td>\n",
              "      <td id=\"T_d577f_row1_col1\" class=\"data row1 col1\" >*</td>\n",
              "    </tr>\n",
              "    <tr>\n",
              "      <th id=\"T_d577f_level0_row2\" class=\"row_heading level0 row2\" >2</th>\n",
              "      <td id=\"T_d577f_row2_col0\" class=\"data row2 col0\" >n</td>\n",
              "      <td id=\"T_d577f_row2_col1\" class=\"data row2 col1\" >n</td>\n",
              "    </tr>\n",
              "  </tbody>\n",
              "</table>\n"
            ],
            "text/plain": [
              "<pandas.io.formats.style.Styler at 0x2834d69c0>"
            ]
          },
          "execution_count": 10,
          "metadata": {},
          "output_type": "execute_result"
        }
      ],
      "source": [
        "viz_align(backtrace2, string1, string2)"
      ]
    },
    {
      "cell_type": "code",
      "execution_count": 11,
      "metadata": {
        "colab": {
          "base_uri": "https://localhost:8080/",
          "height": 238
        },
        "id": "7YgYZ1SFtSA1",
        "outputId": "47da7f24-dc14-4fa6-be72-766c8fb020d5"
      },
      "outputs": [
        {
          "name": "stderr",
          "output_type": "stream",
          "text": [
            "/var/folders/3p/m66q5cs907v4lvm0_svn5b2m0000gn/T/ipykernel_1796/1888026934.py:6: FutureWarning: Series.__getitem__ treating keys as positions is deprecated. In a future version, integer keys will always be treated as labels (consistent with DataFrame behavior). To access a value by position, use `ser.iloc[pos]`\n",
            "  if row[0] != row[1]:\n"
          ]
        },
        {
          "data": {
            "text/html": [
              "<style type=\"text/css\">\n",
              "#T_67a57_row2_col0, #T_67a57_row3_col0, #T_67a57_row4_col0 {\n",
              "  background-color: lightcoral;\n",
              "}\n",
              "</style>\n",
              "<table id=\"T_67a57\">\n",
              "  <thead>\n",
              "    <tr>\n",
              "      <th class=\"blank level0\" >&nbsp;</th>\n",
              "      <th id=\"T_67a57_level0_col0\" class=\"col_heading level0 col0\" >rabain</th>\n",
              "      <th id=\"T_67a57_level0_col1\" class=\"col_heading level0 col1\" >ran</th>\n",
              "    </tr>\n",
              "  </thead>\n",
              "  <tbody>\n",
              "    <tr>\n",
              "      <th id=\"T_67a57_level0_row0\" class=\"row_heading level0 row0\" >0</th>\n",
              "      <td id=\"T_67a57_row0_col0\" class=\"data row0 col0\" >r</td>\n",
              "      <td id=\"T_67a57_row0_col1\" class=\"data row0 col1\" >r</td>\n",
              "    </tr>\n",
              "    <tr>\n",
              "      <th id=\"T_67a57_level0_row1\" class=\"row_heading level0 row1\" >1</th>\n",
              "      <td id=\"T_67a57_row1_col0\" class=\"data row1 col0\" >a</td>\n",
              "      <td id=\"T_67a57_row1_col1\" class=\"data row1 col1\" >a</td>\n",
              "    </tr>\n",
              "    <tr>\n",
              "      <th id=\"T_67a57_level0_row2\" class=\"row_heading level0 row2\" >2</th>\n",
              "      <td id=\"T_67a57_row2_col0\" class=\"data row2 col0\" >b</td>\n",
              "      <td id=\"T_67a57_row2_col1\" class=\"data row2 col1\" >*</td>\n",
              "    </tr>\n",
              "    <tr>\n",
              "      <th id=\"T_67a57_level0_row3\" class=\"row_heading level0 row3\" >3</th>\n",
              "      <td id=\"T_67a57_row3_col0\" class=\"data row3 col0\" >a</td>\n",
              "      <td id=\"T_67a57_row3_col1\" class=\"data row3 col1\" >*</td>\n",
              "    </tr>\n",
              "    <tr>\n",
              "      <th id=\"T_67a57_level0_row4\" class=\"row_heading level0 row4\" >4</th>\n",
              "      <td id=\"T_67a57_row4_col0\" class=\"data row4 col0\" >i</td>\n",
              "      <td id=\"T_67a57_row4_col1\" class=\"data row4 col1\" >*</td>\n",
              "    </tr>\n",
              "    <tr>\n",
              "      <th id=\"T_67a57_level0_row5\" class=\"row_heading level0 row5\" >5</th>\n",
              "      <td id=\"T_67a57_row5_col0\" class=\"data row5 col0\" >n</td>\n",
              "      <td id=\"T_67a57_row5_col1\" class=\"data row5 col1\" >n</td>\n",
              "    </tr>\n",
              "  </tbody>\n",
              "</table>\n"
            ],
            "text/plain": [
              "<pandas.io.formats.style.Styler at 0x2834d70e0>"
            ]
          },
          "execution_count": 11,
          "metadata": {},
          "output_type": "execute_result"
        }
      ],
      "source": [
        "viz_align(backtrace3, string3, string1)"
      ]
    }
  ],
  "metadata": {
    "colab": {
      "authorship_tag": "ABX9TyNJM6LiImG15VFdhi3H1e8U",
      "include_colab_link": true,
      "provenance": []
    },
    "kernelspec": {
      "display_name": "Python 3",
      "name": "python3"
    },
    "language_info": {
      "codemirror_mode": {
        "name": "ipython",
        "version": 3
      },
      "file_extension": ".py",
      "mimetype": "text/x-python",
      "name": "python",
      "nbconvert_exporter": "python",
      "pygments_lexer": "ipython3",
      "version": "3.12.3"
    }
  },
  "nbformat": 4,
  "nbformat_minor": 0
}
